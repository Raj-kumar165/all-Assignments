{
 "cells": [
  {
   "cell_type": "code",
   "execution_count": 4,
   "metadata": {},
   "outputs": [],
   "source": [
    "#QNO1: Define Object Oriented Programming Language?\n",
    "#Object-oriented programming (OOP) refers to a type of computer programming (software design) in which programmers define not only the data type of a data structure, but also the types of operations (functions) that can be applied to the data structure"
   ]
  },
  {
   "cell_type": "code",
   "execution_count": 5,
   "metadata": {},
   "outputs": [],
   "source": [
    "#List down the Benefits of OOP?\n",
    "#There are 4 benifits of OOP\n",
    "#1.Modularity for easier troubleshooting\n",
    "#2.Reuse of code through inheritance\n",
    "#3.Flexibility through polymorphism\n",
    "#4.Effective problem solving"
   ]
  },
  {
   "cell_type": "code",
   "execution_count": 6,
   "metadata": {},
   "outputs": [],
   "source": [
    "#QNO3: Differentiate between function and method?\n",
    "#ANS: A function is a piece of code that is called by name. It can be passed data to operate on (i.e. the parameters) and can optionally return data (the return value). All data that is passed to a function is explicitly passed.\n",
    "#A method is a piece of code that is called by a name that is associated with an object. In most respects it is identical to a function except for two key differences:\n",
    "#A method is implicitly passed the object on which it was called.\n",
    "#A method is able to operate on data that is contained within the class (remembering that an object is an instance of a class - the class is the definition, the object is an instance of that data)."
   ]
  },
  {
   "cell_type": "code",
   "execution_count": 7,
   "metadata": {},
   "outputs": [],
   "source": [
    "#Qno4: Define the following terms:\n",
    "#ANS: class:Class attributes are attributes which are owned by the class itself. They will be shared by all the instances of the class. We define class attributes outside of all the methods, usually they are placed at the top, right below the class header.\n",
    "#Attribute:an attribute is a specification that defines a property of an object, element, or file. It may also refer to or set the specific value for a given instance of such. For clarity, attributes should more correctly be considered metadata.\n",
    "#Object:the objects that belong to it: it describes an aggregate of data fields (called instance variables), and defines the operations (called methods). object: an object is an element (or instance) of a class; objects have the behaviors of their class.\n",
    "#Behaviour:Behavior is the only way objects can do anything to themselves or have anything done to them."
   ]
  },
  {
   "cell_type": "code",
   "execution_count": 8,
   "metadata": {},
   "outputs": [
    {
     "name": "stdout",
     "output_type": "stream",
     "text": [
      "car.__name__ =  car\n",
      "car.__doc__ =  A simple class for cars\n",
      "car.__module__ =  __main__\n",
      "car.__dict__ =  {'__module__': '__main__', '__doc__': 'A simple class for cars', '__init__': <function car.__init__ at 0x00000279CAA74C18>, 'display': <function car.display at 0x00000279CAA74CA8>, '__dict__': <attribute '__dict__' of 'car' objects>, '__weakref__': <attribute '__weakref__' of 'car' objects>}\n"
     ]
    }
   ],
   "source": [
    "#QNO5:\n",
    "class car:\n",
    "    \"A simple class for cars\"\n",
    " \n",
    "    #Constructor to initialize\n",
    "    def __init__(self,company,color):\n",
    "        self.company = company\n",
    "        self.color = color  #making color private\n",
    "\n",
    "    #function to print car company and color\n",
    "    def display(self):\n",
    "        print ('This is a', self.color, self.company)\n",
    "print ('car.__name__ = ',car.__name__)\n",
    "print ('car.__doc__ = ',car.__doc__)\n",
    "print ('car.__module__ = ',car.__module__)\n",
    "print ('car.__dict__ = ',car.__dict__)"
   ]
  },
  {
   "cell_type": "code",
   "execution_count": null,
   "metadata": {},
   "outputs": [],
   "source": [
    "class car:\n",
    "    \"A simple class for cars\"\n",
    " \n",
    "    #Constructor to initialize\n",
    "    def __init__(self,company,color):\n",
    "        self.company = company\n",
    "        self.__color = pink#making color private\n",
    "        self.name = Carola\n",
    "        self.model = '2014'\n",
    "\n",
    "    #function to print car company and color\n",
    "    def display(self):\n",
    "        print ('This is a', self.__color, self.company , )"
   ]
  }
 ],
 "metadata": {
  "kernelspec": {
   "display_name": "Python 3",
   "language": "python",
   "name": "python3"
  },
  "language_info": {
   "codemirror_mode": {
    "name": "ipython",
    "version": 3
   },
   "file_extension": ".py",
   "mimetype": "text/x-python",
   "name": "python",
   "nbconvert_exporter": "python",
   "pygments_lexer": "ipython3",
   "version": "3.7.4"
  }
 },
 "nbformat": 4,
 "nbformat_minor": 2
}
