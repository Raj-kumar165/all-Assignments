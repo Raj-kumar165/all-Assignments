{
 "cells": [
  {
   "cell_type": "code",
   "execution_count": 1,
   "metadata": {},
   "outputs": [
    {
     "name": "stdout",
     "output_type": "stream",
     "text": [
      "Enter Number to calculate it's factorial: 3\n",
      "6\n"
     ]
    }
   ],
   "source": [
    "# Question:1\n",
    "# Write a Python function to calculate the factorial of a number (a non-negative\n",
    "# integer). The function accepts the number as an argument.\n",
    "\n",
    "def isPositiveInteger(number):\n",
    "    if int(number) > 0 :\n",
    "        return True\n",
    "    else:\n",
    "        return False\n",
    "def calcFactorial(number):\n",
    "    factorial = 1\n",
    "    if isPositiveInteger(number) == True:\n",
    "        number = int(number)\n",
    "        for i in range(1, number + 1):\n",
    "            factorial = factorial * i\n",
    "        print(factorial)\n",
    "    else:\n",
    "        print(\"Invalid input\")\n",
    "\n",
    "factCalc = input(\"Enter Number to calculate it's factorial: \")\n",
    "calcFactorial(factCalc)\n"
   ]
  },
  {
   "cell_type": "code",
   "execution_count": 42,
   "metadata": {},
   "outputs": [
    {
     "name": "stdout",
     "output_type": "stream",
     "text": [
      "Enter Any CamelCase String: raj\n",
      "Invalid input\n",
      "Invalid input\n",
      "Invalid input\n",
      "Invalid input\n",
      "Invalid input\n",
      "Invalid input\n",
      "Upper Case Letter in the String are: 0,\n",
      "Lower Case letters in the String are: 3\n"
     ]
    }
   ],
   "source": [
    "# Question:2\n",
    "# Write a Python function that accepts a string and calculate the number of upper\n",
    "# case letters and lower case letters.\n",
    "\n",
    "def caseCounter(string):\n",
    "    upper = 0\n",
    "    lower = 0\n",
    "    standardString = 'raj'\n",
    "    for letter in string:\n",
    "        for sampleLetter in standardString:\n",
    "            if letter == sampleLetter:\n",
    "                lower += 1\n",
    "            elif letter == sampleLetter.upper():\n",
    "                upper += 1\n",
    "            else:\n",
    "                print(\"Invalid input\")\n",
    "    print(\"Upper Case Letter in the String are: {},\\nLower Case letters in the String are: {}\".format(upper, lower))\n",
    "string = input(\"Enter Any CamelCase String: \")\n",
    "caseCounter(string)"
   ]
  },
  {
   "cell_type": "code",
   "execution_count": 31,
   "metadata": {},
   "outputs": [
    {
     "ename": "IndentationError",
     "evalue": "unexpected indent (<ipython-input-31-97a52a46f92b>, line 4)",
     "output_type": "error",
     "traceback": [
      "\u001b[1;36m  File \u001b[1;32m\"<ipython-input-31-97a52a46f92b>\"\u001b[1;36m, line \u001b[1;32m4\u001b[0m\n\u001b[1;33m    def string_test(s):\u001b[0m\n\u001b[1;37m    ^\u001b[0m\n\u001b[1;31mIndentationError\u001b[0m\u001b[1;31m:\u001b[0m unexpected indent\n"
     ]
    }
   ],
   "source": [
    "# Question:2\n",
    "# Write a Python function that accepts a string and calculate the number of upper\n",
    "# case letters and lower case letters.\n",
    "def string_test(s):\n",
    "        d={\"UPPER_CASE\":0, \"LOWER_CASE\":0}\n",
    "        for c in s:\n",
    "            if c.isupper():\n",
    "                d[\"UPPER_CASE\"]+=1\n",
    "            elif c.islower():\n",
    "                d[\"LOWER_CASE\"]+=1\n",
    "            else:\n",
    "                pass\n",
    "        print (\"Original String : \", s)\n",
    "        print (\"No. of Upper case characters : \", d[\"UPPER_CASE\"])\n",
    "        print (\"No. of Lower case Characters : \", d[\"LOWER_CASE\"])\n",
    "\n",
    "    string_test('The quick Brown Fox')"
   ]
  },
  {
   "cell_type": "code",
   "execution_count": 37,
   "metadata": {},
   "outputs": [
    {
     "name": "stdout",
     "output_type": "stream",
     "text": [
      "2\n",
      "54\n",
      "78\n",
      "56\n",
      "24\n"
     ]
    }
   ],
   "source": [
    "randomList = [2, 3, 23, 54, 45, 23, 78, 56, 99, 24]\n",
    "for element in randomList:\n",
    "    if element % 2 == 0:\n",
    "        print(element)"
   ]
  },
  {
   "cell_type": "code",
   "execution_count": 43,
   "metadata": {},
   "outputs": [
    {
     "name": "stdout",
     "output_type": "stream",
     "text": [
      "Enter any word: rajkumar\n",
      "Not palindrom Word\n",
      "Not a palindrom\n"
     ]
    }
   ],
   "source": [
    "def isPalindrom(palWord):\n",
    "    firstHalf = []\n",
    "    secondHalf = []\n",
    "    if len(palWord) % 2 == 1:\n",
    "        oddList = (len(palWord) // 2)\n",
    "        for element in range(oddList):\n",
    "            firstHalf.append(palWord[element])\n",
    "        for element in range(-1, -(len(palWord)-oddList), -1):\n",
    "            secondHalf.append(palWord[element])\n",
    "    else:\n",
    "        print(\"Not palindrom Word\")\n",
    "    palindrom = False\n",
    "    for element in range(len(firstHalf)):\n",
    "        if firstHalf[element] == secondHalf[element]:\n",
    "            palindrom = True\n",
    "    if palindrom == True:\n",
    "        print(\"{} is a Palindrom\".format(palWord))\n",
    "    else:\n",
    "        print(\"Not a palindrom\")\n",
    "palWord = input('Enter any word: ')\n",
    "isPalindrom(palWord)"
   ]
  },
  {
   "cell_type": "code",
   "execution_count": 46,
   "metadata": {},
   "outputs": [
    {
     "name": "stdout",
     "output_type": "stream",
     "text": [
      "Enter any number: 4\n",
      "Not a prime Number\n",
      "2 times 2 is a 4.\n"
     ]
    }
   ],
   "source": [
    "def isPositiveInteger(number):\n",
    "    try:\n",
    "        number = int(number)\n",
    "        return True\n",
    "    except:\n",
    "        return False\n",
    "\n",
    "def checkPrime(number):\n",
    "    isPrime = isPositiveInteger(number)\n",
    "    if isPrime:\n",
    "        number = int(number)\n",
    "        for i in range(2, number):\n",
    "            if (number % i == 0):\n",
    "                print(\"Not a prime Number\")\n",
    "                print(\"{} times {} is a {}.\".format(i, number // i, number))\n",
    "                break\n",
    "        else:\n",
    "            print(\"{} is a prime number.\".format(number))\n",
    "    else:\n",
    "        print(\"Enter positive integers only\")\n",
    "number = input(\"Enter any number: \")\n",
    "checkPrime(number)"
   ]
  },
  {
   "cell_type": "markdown",
   "metadata": {},
   "source": [
    "def shoppingList(*items):\n",
    "    shoppingItems = []\n",
    "    while True:\n",
    "        item = input(\"Enter Shopping item [-1 to abort]: \")\n",
    "        if item != '-1':\n",
    "            shoppingItems.append(item)\n",
    "        else:\n",
    "            break\n",
    "    for item in range(len(shoppingItems)):\n",
    "        print(\"You purchased: {}\".format(shoppingItems[item]))\n",
    "shoppingList()"
   ]
  },
  {
   "cell_type": "code",
   "execution_count": null,
   "metadata": {},
   "outputs": [],
   "source": [
    "def shoppingList(*items):\n",
    "    shoppingItems = []\n",
    "    while True:\n",
    "        item = input(\"Enter Shopping item [-1 to abort]: \")\n",
    "        if item != '-1':\n",
    "            shoppingItems.append(item)\n",
    "        else:\n",
    "            break\n",
    "    for item in range(len(shoppingItems)):\n",
    "        print(\"You purchased: {}\".format(shoppingItems[item]))\n",
    "shoppingList()"
   ]
  },
  {
   "cell_type": "code",
   "execution_count": null,
   "metadata": {},
   "outputs": [],
   "source": []
  }
 ],
 "metadata": {
  "kernelspec": {
   "display_name": "Python 3",
   "language": "python",
   "name": "python3"
  },
  "language_info": {
   "codemirror_mode": {
    "name": "ipython",
    "version": 3
   },
   "file_extension": ".py",
   "mimetype": "text/x-python",
   "name": "python",
   "nbconvert_exporter": "python",
   "pygments_lexer": "ipython3",
   "version": "3.7.4"
  }
 },
 "nbformat": 4,
 "nbformat_minor": 2
}
